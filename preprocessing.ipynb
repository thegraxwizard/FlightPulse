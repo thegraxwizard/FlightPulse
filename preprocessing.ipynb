{
 "cells": [
  {
   "cell_type": "code",
   "execution_count": 3,
   "id": "b261e75a-1074-48aa-9731-5731bbddec7d",
   "metadata": {},
   "outputs": [
    {
     "name": "stdout",
     "output_type": "stream",
     "text": [
      "SparkSession created successfully!\n"
     ]
    }
   ],
   "source": [
    "# Import the necessary libraries from PySpark\n",
    "from pyspark.sql import SparkSession\n",
    "\n",
    "# Create a SparkSession. This is the entry point to all Spark functionality.\n",
    "# We give our application a name, \"FlightPulse-ETL\".\n",
    "spark = SparkSession.builder.appName(\"FlightPulse-ETL\").getOrCreate()\n",
    "\n",
    "print(\"SparkSession created successfully!\")"
   ]
  },
  {
   "cell_type": "code",
   "execution_count": 4,
   "id": "046165c9-d24b-4ef0-b745-bb6c02ddb467",
   "metadata": {},
   "outputs": [
    {
     "name": "stdout",
     "output_type": "stream",
     "text": [
      "CSV dataset loaded successfully into Spark DataFrame.\n"
     ]
    }
   ],
   "source": [
    "# Define the path to your NEW dataset inside the Docker container\n",
    "file_path = \"flights.csv\" # <-- We are now using the CSV file!\n",
    "\n",
    "# Read the CSV file into a Spark DataFrame\n",
    "df = spark.read.csv(file_path, header=True, inferSchema=True)\n",
    "\n",
    "print(\"CSV dataset loaded successfully into Spark DataFrame.\")"
   ]
  },
  {
   "cell_type": "code",
   "execution_count": 5,
   "id": "de6aeb5d-fb89-400b-a07a-0c0e891ff896",
   "metadata": {},
   "outputs": [
    {
     "name": "stdout",
     "output_type": "stream",
     "text": [
      "DataFrame Schema:\n",
      "root\n",
      " |-- FLIGHT_DATE: string (nullable = true)\n",
      " |-- FLIGHT_TIME: timestamp (nullable = true)\n",
      " |-- TIME_OF_DAY: string (nullable = true)\n",
      " |-- AIRLINE_CD: string (nullable = true)\n",
      " |-- FLIGHT_NO: string (nullable = true)\n",
      " |-- DEPARTURE_STATION_CD: string (nullable = true)\n",
      " |-- ARRIVAL_STATION_CD: string (nullable = true)\n",
      " |-- ARRIVAL_COUNTRY: string (nullable = true)\n",
      " |-- ARRIVAL_REGION: string (nullable = true)\n",
      " |-- HAUL: string (nullable = true)\n",
      " |-- AIRCRAFT_TYPE: string (nullable = true)\n",
      " |-- FIRST_CLASS_SEATS: integer (nullable = true)\n",
      " |-- BUSINESS_CLASS_SEATS: integer (nullable = true)\n",
      " |-- ECONOMY_SEATS: integer (nullable = true)\n",
      " |-- TIER1_ELIGIBLE_PAX: integer (nullable = true)\n",
      " |-- TIER2_ELIGIBLE_PAX: integer (nullable = true)\n",
      " |-- TIER3_ELIGIBLE_PAX: integer (nullable = true)\n",
      "\n",
      "First 5 rows of the DataFrame:\n",
      "+-----------+-------------------+-----------+----------+---------+--------------------+------------------+---------------+--------------+-----+-------------+-----------------+--------------------+-------------+------------------+------------------+------------------+\n",
      "|FLIGHT_DATE|        FLIGHT_TIME|TIME_OF_DAY|AIRLINE_CD|FLIGHT_NO|DEPARTURE_STATION_CD|ARRIVAL_STATION_CD|ARRIVAL_COUNTRY|ARRIVAL_REGION| HAUL|AIRCRAFT_TYPE|FIRST_CLASS_SEATS|BUSINESS_CLASS_SEATS|ECONOMY_SEATS|TIER1_ELIGIBLE_PAX|TIER2_ELIGIBLE_PAX|TIER3_ELIGIBLE_PAX|\n",
      "+-----------+-------------------+-----------+----------+---------+--------------------+------------------+---------------+--------------+-----+-------------+-----------------+--------------------+-------------+------------------+------------------+------------------+\n",
      "| 02-09-2025|2025-10-08 14:19:00|  Afternoon|        BA|   BA5211|                 LHR|               LAX|            USA| North America| LONG|         B777|                8|                  49|          178|                 0|                10|                38|\n",
      "| 10-06-2025|2025-10-08 06:42:00|    Morning|        BA|   BA7282|                 LHR|               LAX|            USA| North America| LONG|         B777|                8|                  49|          178|                 0|                 7|                28|\n",
      "| 27-10-2025|2025-10-08 15:33:00|  Afternoon|        BA|   BA1896|                 LHR|               FRA|        Germany|        Europe|SHORT|         A320|                0|                  17|          163|                 0|                11|                40|\n",
      "| 15-06-2025|2025-10-08 18:29:00|    Evening|        BA|   BA5497|                 LHR|               IST|         Turkey|        Europe|SHORT|         A320|                0|                   8|          172|                 0|                16|                54|\n",
      "| 25-08-2025|2025-10-08 20:35:00|    Evening|        BA|   BA1493|                 LHR|               FRA|        Germany|        Europe|SHORT|         A320|                0|                  13|          167|                 0|                 6|                27|\n",
      "+-----------+-------------------+-----------+----------+---------+--------------------+------------------+---------------+--------------+-----+-------------+-----------------+--------------------+-------------+------------------+------------------+------------------+\n",
      "only showing top 5 rows\n",
      "\n"
     ]
    }
   ],
   "source": [
    "# Print the schema to see the column names and their data types\n",
    "print(\"DataFrame Schema:\")\n",
    "df.printSchema()\n",
    "\n",
    "# Show the first 5 rows of the DataFrame to see what the data looks like\n",
    "print(\"First 5 rows of the DataFrame:\")\n",
    "df.show(5)"
   ]
  },
  {
   "cell_type": "code",
   "execution_count": 6,
   "id": "6ef332d1-94e8-4766-89a5-79294d37cf58",
   "metadata": {},
   "outputs": [
    {
     "name": "stdout",
     "output_type": "stream",
     "text": [
      "Count of null values in each column:\n",
      "+-----------+-----------+-----------+----------+---------+--------------------+------------------+---------------+--------------+----+-------------+-----------------+--------------------+-------------+------------------+------------------+------------------+\n",
      "|FLIGHT_DATE|FLIGHT_TIME|TIME_OF_DAY|AIRLINE_CD|FLIGHT_NO|DEPARTURE_STATION_CD|ARRIVAL_STATION_CD|ARRIVAL_COUNTRY|ARRIVAL_REGION|HAUL|AIRCRAFT_TYPE|FIRST_CLASS_SEATS|BUSINESS_CLASS_SEATS|ECONOMY_SEATS|TIER1_ELIGIBLE_PAX|TIER2_ELIGIBLE_PAX|TIER3_ELIGIBLE_PAX|\n",
      "+-----------+-----------+-----------+----------+---------+--------------------+------------------+---------------+--------------+----+-------------+-----------------+--------------------+-------------+------------------+------------------+------------------+\n",
      "|          0|          0|          0|         0|        0|                   0|                 0|              0|             0|   0|            0|                0|                   0|            0|                 0|                 0|                 0|\n",
      "+-----------+-----------+-----------+----------+---------+--------------------+------------------+---------------+--------------+----+-------------+-----------------+--------------------+-------------+------------------+------------------+------------------+\n",
      "\n",
      "Transformed DataFrame with new date and day of week columns:\n",
      "+-----------+---------------------+-----------+--------------------+------------------+\n",
      "|FLIGHT_DATE|flight_date_formatted|day_of_week|DEPARTURE_STATION_CD|ARRIVAL_STATION_CD|\n",
      "+-----------+---------------------+-----------+--------------------+------------------+\n",
      "| 02-09-2025|           2025-09-02|          3|                 LHR|               LAX|\n",
      "| 10-06-2025|           2025-06-10|          3|                 LHR|               LAX|\n",
      "| 27-10-2025|           2025-10-27|          2|                 LHR|               FRA|\n",
      "| 15-06-2025|           2025-06-15|          1|                 LHR|               IST|\n",
      "| 25-08-2025|           2025-08-25|          2|                 LHR|               FRA|\n",
      "+-----------+---------------------+-----------+--------------------+------------------+\n",
      "only showing top 5 rows\n",
      "\n"
     ]
    }
   ],
   "source": [
    "# Import necessary functions from PySpark for data manipulation\n",
    "from pyspark.sql.functions import col, to_date, dayofweek, count, when, isnull\n",
    "\n",
    "# --- 1. Check for Missing Values ---\n",
    "# This command goes through each column and counts the number of null (empty) values.\n",
    "print(\"Count of null values in each column:\")\n",
    "df.select([count(when(isnull(c), c)).alias(c) for c in df.columns]).show()\n",
    "\n",
    "\n",
    "# --- 2. Correct Date Format & 3. Feature Engineering ---\n",
    "# We create a new DataFrame called 'df_transformed'\n",
    "df_transformed = df.withColumn(\n",
    "    # Convert the 'FLIGHT_DATE' string column to a proper Date type\n",
    "    \"flight_date_formatted\", \n",
    "    to_date(col(\"FLIGHT_DATE\"), \"dd-MM-yyyy\")\n",
    ").withColumn(\n",
    "    # Create a new column 'DayOfWeek' (1=Sun, 2=Mon, ..., 7=Sat) from the new date column\n",
    "    \"day_of_week\",\n",
    "    dayofweek(col(\"flight_date_formatted\"))\n",
    ")\n",
    "\n",
    "print(\"Transformed DataFrame with new date and day of week columns:\")\n",
    "# Show a few key columns from our new DataFrame to see the results\n",
    "df_transformed.select(\"FLIGHT_DATE\", \"flight_date_formatted\", \"day_of_week\", \"DEPARTURE_STATION_CD\", \"ARRIVAL_STATION_CD\").show(5)"
   ]
  },
  {
   "cell_type": "code",
   "execution_count": 7,
   "id": "4fb44e3e-6083-4cf0-805d-f093a9e0276c",
   "metadata": {},
   "outputs": [
    {
     "name": "stdout",
     "output_type": "stream",
     "text": [
      "Analysis Complete: Top 10 Busiest Routes\n",
      "+-------+------------+\n",
      "|  route|flight_count|\n",
      "+-------+------------+\n",
      "|LHR-FRA|         714|\n",
      "|LHR-MUC|         691|\n",
      "|LHR-DXB|         688|\n",
      "|LHR-VIE|         682|\n",
      "|LHR-HND|         679|\n",
      "|LHR-ORD|         675|\n",
      "|LHR-MAD|         673|\n",
      "|LHR-LAX|         666|\n",
      "|LHR-JFK|         664|\n",
      "|LHR-DFW|         653|\n",
      "+-------+------------+\n",
      "\n"
     ]
    }
   ],
   "source": [
    "# Import the functions we'll need for analysis\n",
    "from pyspark.sql.functions import col, concat_ws, desc\n",
    "\n",
    "# --- 1. Create a Temporary View ---\n",
    "# To use SQL queries on our DataFrame, we need to register it as a temporary table or view.\n",
    "# Let's call our table \"flights\".\n",
    "df_transformed.createOrReplaceTempView(\"flights\")\n",
    "\n",
    "\n",
    "# --- 2. Write and Run the SQL Query ---\n",
    "# This SQL query does a few things:\n",
    "# - Creates a 'route' column by combining the departure and arrival stations (e.g., \"LHR-LAX\")\n",
    "# - Groups by this new 'route' column and counts how many times each one appears\n",
    "# - Orders the results in descending order to see the busiest routes at the top\n",
    "# - Limits the result to the top 10\n",
    "top_10_routes = spark.sql(\"\"\"\n",
    "    SELECT \n",
    "        route, \n",
    "        COUNT(*) AS flight_count\n",
    "    FROM (\n",
    "        SELECT \n",
    "            concat_ws('-', DEPARTURE_STATION_CD, ARRIVAL_STATION_CD) AS route \n",
    "        FROM flights\n",
    "    )\n",
    "    GROUP BY route\n",
    "    ORDER BY flight_count DESC\n",
    "    LIMIT 10\n",
    "\"\"\")\n",
    "\n",
    "print(\"Analysis Complete: Top 10 Busiest Routes\")\n",
    "# Show the results of our query\n",
    "top_10_routes.show()"
   ]
  },
  {
   "cell_type": "code",
   "execution_count": 11,
   "id": "d279bc88-cdf2-4f5b-a09d-4ee8166ecab7",
   "metadata": {},
   "outputs": [
    {
     "name": "stderr",
     "output_type": "stream",
     "text": [
      "/tmp/ipykernel_512/2728645584.py:18: FutureWarning: \n",
      "\n",
      "Passing `palette` without assigning `hue` is deprecated and will be removed in v0.14.0. Assign the `y` variable to `hue` and set `legend=False` for the same effect.\n",
      "\n",
      "  sns.barplot(x=\"flight_count\", y=\"route\", data=top_10_routes_pandas, palette=\"viridis\")\n"
     ]
    },
    {
     "data": {
      "image/png": "[encoded data removed]",
      "text/plain": [
       "<Figure size 1200x800 with 1 Axes>"
      ]
     },
     "metadata": {},
     "output_type": "display_data"
    }
   ],
   "source": [
    "# Import the Python visualization libraries\n",
    "import matplotlib.pyplot as plt\n",
    "import seaborn as sns\n",
    "\n",
    "# --- 1. Convert Spark DataFrame to Pandas DataFrame ---\n",
    "# Most Python plotting libraries, like Seaborn, work best with Pandas DataFrames.\n",
    "# The .toPandas() method is an easy way to collect the results from our distributed Spark DataFrame \n",
    "# into a single Pandas DataFrame on the driver node.\n",
    "top_10_routes_pandas = top_10_routes.toPandas()\n",
    "\n",
    "\n",
    "# --- 2. Create the Bar Chart ---\n",
    "# Set the size of our plot\n",
    "plt.figure(figsize=(12, 8))\n",
    "\n",
    "# Use the Seaborn library to create the bar plot\n",
    "# We set the x-axis to our 'route' column and the y-axis to our 'flight_count' column\n",
    "sns.barplot(x=\"flight_count\", y=\"route\", data=top_10_routes_pandas, palette=\"viridis\")\n",
    "\n",
    "# Add a title and labels for clarity\n",
    "plt.title(\"Top 10 Busiest Flight Routes\", fontsize=16)\n",
    "plt.xlabel(\"Number of Flights\", fontsize=12)\n",
    "plt.ylabel(\"Route (Departure-Arrival)\", fontsize=12)\n",
    "\n",
    "# Show the plot\n",
    "plt.show()"
   ]
  },
  {
   "cell_type": "code",
   "execution_count": 8,
   "id": "36ae0cc7-1172-4c09-9802-d2a84f17de05",
   "metadata": {},
   "outputs": [
    {
     "name": "stdout",
     "output_type": "stream",
     "text": [
      "Starting export...\n",
      "Export complete! Check your 'FlightPulse' project folder for a new folder named 'cleaned_flights.csv'.\n"
     ]
    }
   ],
   "source": [
    "# We will use our 'df_transformed' DataFrame from the previous step\n",
    "\n",
    "print(\"Starting export...\")\n",
    "\n",
    "# This command will save the DataFrame as a new CSV file.\n",
    "# .coalesce(1) is a crucial step: it combines Spark's many small part-files into a single output file.\n",
    "# .mode('overwrite') will replace the file if it already exists, which is useful for re-running.\n",
    "df_transformed.coalesce(1).write.csv(\n",
    "    'work/cleaned_flights.csv', \n",
    "    header=True, \n",
    "    mode='overwrite'\n",
    ")\n",
    "\n",
    "print(\"Export complete! Check your 'FlightPulse' project folder for a new folder named 'cleaned_flights.csv'.\")"
   ]
  }
 ],
 "metadata": {
  "kernelspec": {
   "display_name": "Python 3 (ipykernel)",
   "language": "python",
   "name": "python3"
  },
  "language_info": {
   "codemirror_mode": {
    "name": "ipython",
    "version": 3
   },
   "file_extension": ".py",
   "mimetype": "text/x-python",
   "name": "python",
   "nbconvert_exporter": "python",
   "pygments_lexer": "ipython3",
   "version": "3.11.6"
  }
 },
 "nbformat": 4,
 "nbformat_minor": 5
}
