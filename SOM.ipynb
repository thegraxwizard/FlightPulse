{
 "cells": [
  {
   "cell_type": "code",
   "execution_count": 1,
   "id": "223161f9-480f-4276-820d-f39bb6c53433",
   "metadata": {},
   "outputs": [
    {
     "name": "stdout",
     "output_type": "stream",
     "text": [
      "Collecting MiniSom\n",
      "  Downloading minisom-2.3.5.tar.gz (12 kB)\n",
      "  Preparing metadata (setup.py) ... \u001b[?25ldone\n",
      "\u001b[?25hBuilding wheels for collected packages: MiniSom\n",
      "  Building wheel for MiniSom (setup.py) ... \u001b[?25ldone\n",
      "\u001b[?25h  Created wheel for MiniSom: filename=MiniSom-2.3.5-py3-none-any.whl size=12030 sha256=1226ab93a29bd1eda14bc176aef36d6c345c02e0808654cd586ad3479fc1c945\n",
      "  Stored in directory: /home/jovyan/.cache/pip/wheels/19/db/95/5e53bc2b88a328217fdf9f2886cafbe86b0df274f4b601f572\n",
      "Successfully built MiniSom\n",
      "Installing collected packages: MiniSom\n",
      "Successfully installed MiniSom-2.3.5\n",
      "Note: you may need to restart the kernel to use updated packages.\n"
     ]
    }
   ],
   "source": [
    "%pip install MiniSom\n"
   ]
  },
  {
   "cell_type": "code",
   "execution_count": 2,
   "id": "72779fe5-8f8c-4c67-b550-ad0ca627cf02",
   "metadata": {},
   "outputs": [
    {
     "ename": "NameError",
     "evalue": "name 'route_ml_ready' is not defined",
     "output_type": "error",
     "traceback": [
      "\u001b[0;31m---------------------------------------------------------------------------\u001b[0m",
      "\u001b[0;31mNameError\u001b[0m                                 Traceback (most recent call last)",
      "Cell \u001b[0;32mIn[2], line 9\u001b[0m\n\u001b[1;32m      4\u001b[0m \u001b[38;5;28;01mfrom\u001b[39;00m \u001b[38;5;21;01mmatplotlib\u001b[39;00m\u001b[38;5;21;01m.\u001b[39;00m\u001b[38;5;21;01mpatches\u001b[39;00m \u001b[38;5;28;01mimport\u001b[39;00m Patch\n\u001b[1;32m      6\u001b[0m \u001b[38;5;66;03m# --- 1. Prepare Data ---\u001b[39;00m\n\u001b[1;32m      7\u001b[0m \u001b[38;5;66;03m# Get the scaled 'features' vector from our 'route_ml_ready' DataFrame\u001b[39;00m\n\u001b[1;32m      8\u001b[0m \u001b[38;5;66;03m# We need to convert it to a NumPy array for MiniSom\u001b[39;00m\n\u001b[0;32m----> 9\u001b[0m data_for_som \u001b[38;5;241m=\u001b[39m np\u001b[38;5;241m.\u001b[39marray(\u001b[43mroute_ml_ready\u001b[49m\u001b[38;5;241m.\u001b[39mselect(\u001b[38;5;124m\"\u001b[39m\u001b[38;5;124mfeatures\u001b[39m\u001b[38;5;124m\"\u001b[39m)\u001b[38;5;241m.\u001b[39mrdd\u001b[38;5;241m.\u001b[39mmap(\u001b[38;5;28;01mlambda\u001b[39;00m row: row[\u001b[38;5;241m0\u001b[39m]\u001b[38;5;241m.\u001b[39mtoArray())\u001b[38;5;241m.\u001b[39mcollect())\n\u001b[1;32m     10\u001b[0m num_features \u001b[38;5;241m=\u001b[39m data_for_som\u001b[38;5;241m.\u001b[39mshape[\u001b[38;5;241m1\u001b[39m]\n\u001b[1;32m     12\u001b[0m \u001b[38;5;66;03m# --- 2. Initialize and Train the SOM ---\u001b[39;00m\n\u001b[1;32m     13\u001b[0m \u001b[38;5;66;03m# Define the size of the SOM grid (e.g., 10x10 neurons)\u001b[39;00m\n",
      "\u001b[0;31mNameError\u001b[0m: name 'route_ml_ready' is not defined"
     ]
    }
   ],
   "source": [
    "import numpy as np\n",
    "from minisom import MiniSom # Import the library\n",
    "import matplotlib.pyplot as plt\n",
    "from matplotlib.patches import Patch\n",
    "\n",
    "# --- 1. Prepare Data ---\n",
    "# Get the scaled 'features' vector from our 'route_ml_ready' DataFrame\n",
    "# We need to convert it to a NumPy array for MiniSom\n",
    "data_for_som = np.array(route_ml_ready.select(\"features\").rdd.map(lambda row: row[0].toArray()).collect())\n",
    "num_features = data_for_som.shape[1]\n",
    "\n",
    "# --- 2. Initialize and Train the SOM ---\n",
    "# Define the size of the SOM grid (e.g., 10x10 neurons)\n",
    "map_size_x = 10\n",
    "map_size_y = 10\n",
    "\n",
    "# Initialize the SOM\n",
    "# sigma: radius of the neighborhood function\n",
    "# learning_rate: how much weights are adjusted during training\n",
    "som = MiniSom(map_size_x, map_size_y, num_features, sigma=1.5, learning_rate=0.5, \n",
    "              neighborhood_function='gaussian', random_seed=42)\n",
    "\n",
    "# Initialize the weights randomly\n",
    "som.random_weights_init(data_for_som)\n",
    "\n",
    "# Train the SOM for a number of iterations\n",
    "print(f\"--- Training SOM ({map_size_x}x{map_size_y} grid)... ---\")\n",
    "som.train_random(data_for_som, 1000) # Train for 1000 iterations\n",
    "print(\"--- SOM Training Complete ---\")\n",
    "\n",
    "# --- 3. Visualize the SOM Map (U-Matrix and Clusters) ---\n",
    "# The U-Matrix visualizes distances between neighboring neurons (darker = larger distance/cluster boundary)\n",
    "plt.figure(figsize=(10, 10))\n",
    "plt.pcolor(som.distance_map().T, cmap='bone_r') # U-Matrix\n",
    "plt.colorbar()\n",
    "\n",
    "# Now, let's map each route to its winning neuron on the SOM and plot markers\n",
    "# We can use different markers/colors if we had a known 'true' label, \n",
    "# but here we'll just plot where each route landed on the map.\n",
    "winning_neurons = np.array([som.winner(x) for x in data_for_som])\n",
    "\n",
    "# Plot each data point on the map with a small offset (jitter) for visibility\n",
    "for i, pos in enumerate(winning_neurons):\n",
    "    plt.plot(pos[0] + np.random.rand()*.8 - 0.4, pos[1] + np.random.rand()*.8 - 0.4, 'o', markerfacecolor='None',\n",
    "             markeredgecolor='C1', markersize=12, markeredgewidth=2)\n",
    "\n",
    "plt.title('Self-Organizing Map (SOM) of Flight Routes', fontsize=16)\n",
    "plt.xticks(np.arange(map_size_x))\n",
    "plt.yticks(np.arange(map_size_y))\n",
    "plt.grid()\n",
    "plt.show()\n",
    "\n",
    "# --- 4. (Optional) Get Cluster Assignments from SOM ---\n",
    "# We can apply K-Means *on the SOM weights* to get cluster assignments if needed\n",
    "# For now, the visual map is the primary output.\n"
   ]
  },
  {
   "cell_type": "code",
   "execution_count": null,
   "id": "1b73fdf3-e73e-4f14-9882-4490d39de44a",
   "metadata": {},
   "outputs": [],
   "source": []
  }
 ],
 "metadata": {
  "kernelspec": {
   "display_name": "Python 3 (ipykernel)",
   "language": "python",
   "name": "python3"
  },
  "language_info": {
   "codemirror_mode": {
    "name": "ipython",
    "version": 3
   },
   "file_extension": ".py",
   "mimetype": "text/x-python",
   "name": "python",
   "nbconvert_exporter": "python",
   "pygments_lexer": "ipython3",
   "version": "3.11.6"
  }
 },
 "nbformat": 4,
 "nbformat_minor": 5
}
