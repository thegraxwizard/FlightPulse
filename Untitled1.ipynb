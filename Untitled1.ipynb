{
 "cells": [
  {
   "cell_type": "code",
   "execution_count": 21,
   "id": "5bf54078-f354-49a4-9c07-e14825e2c852",
   "metadata": {},
   "outputs": [
    {
     "name": "stdout",
     "output_type": "stream",
     "text": [
      "SparkSession created successfully with Kafka package!\n"
     ]
    }
   ],
   "source": [
    "# Import the necessary libraries from PySpark\n",
    "from pyspark.sql import SparkSession\n",
    "\n",
    "# Create a SparkSession AND include the necessary Kafka package\n",
    "spark = SparkSession.builder \\\n",
    "    .appName(\"FlightPulse-Streaming\") \\\n",
    "    .config(\"spark.jars.packages\", \"org.apache.spark:spark-sql-kafka-0-10_2.12:3.5.0\") \\\n",
    "    .getOrCreate()\n",
    "\n",
    "print(\"SparkSession created successfully with Kafka package!\")"
   ]
  },
  {
   "cell_type": "code",
   "execution_count": 22,
   "id": "bc7f7cd7-c2df-429a-aa38-bf07c6df6cb8",
   "metadata": {},
   "outputs": [],
   "source": [
    "from pyspark.sql.functions import from_json, col\n",
    "from pyspark.sql.types import StructType, StructField, StringType, IntegerType, TimestampType\n",
    "\n",
    "# Schema definition (Corrected)\n",
    "schema = StructType([\n",
    "    StructField(\"FLIGHT_DATE\", StringType(), True),\n",
    "    StructField(\"FLIGHT_TIME\", StringType(), True),\n",
    "    StructField(\"TIME_OF_DAY\", StringType(), True),\n",
    "    StructField(\"AIRLINE_CD\", StringType(), True),\n",
    "    StructField(\"FLIGHT_NO\", StringType(), True),\n",
    "    StructField(\"DEPARTURE_STATION_CD\", StringType(), True),\n",
    "    StructField(\"ARRIVAL_STATION_CD\", StringType(), True),\n",
    "    StructField(\"ARRIVAL_COUNTRY\", StringType(), True),\n",
    "    StructField(\"ARRIVAL_REGION\", StringType(), True),\n",
    "    StructField(\"HAUL\", StringType(), True),\n",
    "    StructField(\"AIRCRAFT_TYPE\", StringType(), True),\n",
    "    StructField(\"FIRST_CLASS_SEATS\", IntegerType(), True),\n",
    "    StructField(\"BUSINESS_CLASS_SEATS\", IntegerType(), True),\n",
    "    StructField(\"ECONOMY_SEATS\", IntegerType(), True),\n",
    "    StructField(\"TIER1_ELIGIBLE_PAX\", IntegerType(), True),\n",
    "    StructField(\"TIER2_ELIGIBLE_PAX\", IntegerType(), True),\n",
    "    StructField(\"TIER3_ELIGIBLE_PAX\", IntegerType(), True)\n",
    "])\n",
    "\n",
    "# --- Create a Streaming DataFrame ---\n",
    "kafka_df = spark \\\n",
    "    .readStream \\\n",
    "    .format(\"kafka\") \\\n",
    "    .option(\"kafka.bootstrap.servers\", \"host.docker.internal:9092\") \\\n",
    "    .option(\"subscribe\", \"flight_events\") \\\n",
    "    .load()\n",
    "\n",
    "# --- Parse the Data ---\n",
    "parsed_df = kafka_df.select(from_json(col(\"value\").cast(\"string\"), schema).alias(\"data\")).select(\"data.*\")\n",
    "\n",
    "# --- Start the Streaming Query ---\n",
    "query = parsed_df \\\n",
    "    .writeStream \\\n",
    "    .outputMode(\"append\") \\\n",
    "    .format(\"console\") \\\n",
    "    .start()"
   ]
  },
  {
   "cell_type": "code",
   "execution_count": null,
   "id": "3206eaf7-ead6-4f20-9e6c-9df95352780f",
   "metadata": {},
   "outputs": [],
   "source": []
  }
 ],
 "metadata": {
  "kernelspec": {
   "display_name": "Python 3 (ipykernel)",
   "language": "python",
   "name": "python3"
  },
  "language_info": {
   "codemirror_mode": {
    "name": "ipython",
    "version": 3
   },
   "file_extension": ".py",
   "mimetype": "text/x-python",
   "name": "python",
   "nbconvert_exporter": "python",
   "pygments_lexer": "ipython3",
   "version": "3.11.6"
  }
 },
 "nbformat": 4,
 "nbformat_minor": 5
}
